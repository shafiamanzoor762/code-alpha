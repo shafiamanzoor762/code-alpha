{
 "cells": [
  {
   "cell_type": "markdown",
   "id": "9ae16e49",
   "metadata": {},
   "source": [
    "# Emotion Recognition from Speech"
   ]
  },
  {
   "cell_type": "markdown",
   "id": "8d8de9c5",
   "metadata": {},
   "source": [
    "### Requirments"
   ]
  },
  {
   "cell_type": "code",
   "execution_count": 18,
   "id": "b77066c4",
   "metadata": {},
   "outputs": [
    {
     "name": "stdout",
     "output_type": "stream",
     "text": [
      "Requirement already satisfied: librosa in e:\\code-alpha\\venv\\lib\\site-packages (0.11.0)\n",
      "Requirement already satisfied: numpy in e:\\code-alpha\\venv\\lib\\site-packages (1.24.3)\n",
      "Requirement already satisfied: pandas in e:\\code-alpha\\venv\\lib\\site-packages (2.0.3)\n",
      "Requirement already satisfied: scikit-learn in e:\\code-alpha\\venv\\lib\\site-packages (1.3.2)\n",
      "Requirement already satisfied: tensorflow in e:\\code-alpha\\venv\\lib\\site-packages (2.13.0)\n",
      "Requirement already satisfied: matplotlib in e:\\code-alpha\\venv\\lib\\site-packages (3.7.5)\n",
      "Requirement already satisfied: resampy in e:\\code-alpha\\venv\\lib\\site-packages (0.4.3)\n",
      "Requirement already satisfied: lazy_loader>=0.1 in e:\\code-alpha\\venv\\lib\\site-packages (from librosa) (0.4)\n",
      "Requirement already satisfied: decorator>=4.3.0 in e:\\code-alpha\\venv\\lib\\site-packages (from librosa) (5.2.1)\n",
      "Requirement already satisfied: joblib>=1.0 in e:\\code-alpha\\venv\\lib\\site-packages (from librosa) (1.4.2)\n",
      "Requirement already satisfied: audioread>=2.1.9 in e:\\code-alpha\\venv\\lib\\site-packages (from librosa) (3.0.1)\n",
      "Requirement already satisfied: soxr>=0.3.2 in e:\\code-alpha\\venv\\lib\\site-packages (from librosa) (0.3.7)\n",
      "Requirement already satisfied: pooch>=1.1 in e:\\code-alpha\\venv\\lib\\site-packages (from librosa) (1.8.2)\n",
      "Requirement already satisfied: msgpack>=1.0 in e:\\code-alpha\\venv\\lib\\site-packages (from librosa) (1.1.1)\n",
      "Requirement already satisfied: soundfile>=0.12.1 in e:\\code-alpha\\venv\\lib\\site-packages (from librosa) (0.13.1)\n",
      "Requirement already satisfied: scipy>=1.6.0 in e:\\code-alpha\\venv\\lib\\site-packages (from librosa) (1.10.1)\n",
      "Requirement already satisfied: typing_extensions>=4.1.1 in e:\\code-alpha\\venv\\lib\\site-packages (from librosa) (4.5.0)\n",
      "Requirement already satisfied: numba>=0.51.0 in e:\\code-alpha\\venv\\lib\\site-packages (from librosa) (0.58.1)\n",
      "Requirement already satisfied: threadpoolctl>=2.0.0 in e:\\code-alpha\\venv\\lib\\site-packages (from scikit-learn) (3.5.0)\n",
      "Requirement already satisfied: packaging in e:\\code-alpha\\venv\\lib\\site-packages (from lazy_loader>=0.1->librosa) (25.0)\n",
      "Requirement already satisfied: llvmlite<0.42,>=0.41.0dev0 in e:\\code-alpha\\venv\\lib\\site-packages (from numba>=0.51.0->librosa) (0.41.1)\n",
      "Requirement already satisfied: importlib-metadata in e:\\code-alpha\\venv\\lib\\site-packages (from numba>=0.51.0->librosa) (8.5.0)\n",
      "Requirement already satisfied: requests>=2.19.0 in e:\\code-alpha\\venv\\lib\\site-packages (from pooch>=1.1->librosa) (2.32.4)\n",
      "Requirement already satisfied: platformdirs>=2.5.0 in e:\\code-alpha\\venv\\lib\\site-packages (from pooch>=1.1->librosa) (4.3.6)\n",
      "Requirement already satisfied: charset_normalizer<4,>=2 in e:\\code-alpha\\venv\\lib\\site-packages (from requests>=2.19.0->pooch>=1.1->librosa) (3.4.2)\n",
      "Requirement already satisfied: idna<4,>=2.5 in e:\\code-alpha\\venv\\lib\\site-packages (from requests>=2.19.0->pooch>=1.1->librosa) (3.10)\n",
      "Requirement already satisfied: certifi>=2017.4.17 in e:\\code-alpha\\venv\\lib\\site-packages (from requests>=2.19.0->pooch>=1.1->librosa) (2025.6.15)\n",
      "Requirement already satisfied: urllib3<3,>=1.21.1 in e:\\code-alpha\\venv\\lib\\site-packages (from requests>=2.19.0->pooch>=1.1->librosa) (2.2.3)\n",
      "Requirement already satisfied: cffi>=1.0 in e:\\code-alpha\\venv\\lib\\site-packages (from soundfile>=0.12.1->librosa) (1.17.1)\n",
      "Requirement already satisfied: pycparser in e:\\code-alpha\\venv\\lib\\site-packages (from cffi>=1.0->soundfile>=0.12.1->librosa) (2.22)\n",
      "Requirement already satisfied: python-dateutil>=2.8.2 in e:\\code-alpha\\venv\\lib\\site-packages (from pandas) (2.9.0.post0)\n",
      "Requirement already satisfied: tzdata>=2022.1 in e:\\code-alpha\\venv\\lib\\site-packages (from pandas) (2025.2)\n",
      "Requirement already satisfied: pytz>=2020.1 in e:\\code-alpha\\venv\\lib\\site-packages (from pandas) (2025.2)\n",
      "Requirement already satisfied: six>=1.5 in e:\\code-alpha\\venv\\lib\\site-packages (from python-dateutil>=2.8.2->pandas) (1.17.0)\n",
      "Requirement already satisfied: tensorflow-intel==2.13.0 in e:\\code-alpha\\venv\\lib\\site-packages (from tensorflow) (2.13.0)\n",
      "Requirement already satisfied: astunparse>=1.6.0 in e:\\code-alpha\\venv\\lib\\site-packages (from tensorflow-intel==2.13.0->tensorflow) (1.6.3)\n",
      "Requirement already satisfied: wrapt>=1.11.0 in e:\\code-alpha\\venv\\lib\\site-packages (from tensorflow-intel==2.13.0->tensorflow) (1.17.2)\n",
      "Requirement already satisfied: libclang>=13.0.0 in e:\\code-alpha\\venv\\lib\\site-packages (from tensorflow-intel==2.13.0->tensorflow) (18.1.1)\n",
      "Requirement already satisfied: grpcio<2.0,>=1.24.3 in e:\\code-alpha\\venv\\lib\\site-packages (from tensorflow-intel==2.13.0->tensorflow) (1.70.0)\n",
      "Requirement already satisfied: opt-einsum>=2.3.2 in e:\\code-alpha\\venv\\lib\\site-packages (from tensorflow-intel==2.13.0->tensorflow) (3.4.0)\n",
      "Requirement already satisfied: google-pasta>=0.1.1 in e:\\code-alpha\\venv\\lib\\site-packages (from tensorflow-intel==2.13.0->tensorflow) (0.2.0)\n",
      "Requirement already satisfied: flatbuffers>=23.1.21 in e:\\code-alpha\\venv\\lib\\site-packages (from tensorflow-intel==2.13.0->tensorflow) (25.2.10)\n",
      "Requirement already satisfied: gast<=0.4.0,>=0.2.1 in e:\\code-alpha\\venv\\lib\\site-packages (from tensorflow-intel==2.13.0->tensorflow) (0.4.0)\n",
      "Requirement already satisfied: absl-py>=1.0.0 in e:\\code-alpha\\venv\\lib\\site-packages (from tensorflow-intel==2.13.0->tensorflow) (2.3.0)\n",
      "Requirement already satisfied: setuptools in e:\\code-alpha\\venv\\lib\\site-packages (from tensorflow-intel==2.13.0->tensorflow) (56.0.0)\n",
      "Requirement already satisfied: tensorflow-io-gcs-filesystem>=0.23.1 in e:\\code-alpha\\venv\\lib\\site-packages (from tensorflow-intel==2.13.0->tensorflow) (0.31.0)\n",
      "Requirement already satisfied: tensorboard<2.14,>=2.13 in e:\\code-alpha\\venv\\lib\\site-packages (from tensorflow-intel==2.13.0->tensorflow) (2.13.0)\n",
      "Requirement already satisfied: h5py>=2.9.0 in e:\\code-alpha\\venv\\lib\\site-packages (from tensorflow-intel==2.13.0->tensorflow) (3.11.0)\n",
      "Requirement already satisfied: termcolor>=1.1.0 in e:\\code-alpha\\venv\\lib\\site-packages (from tensorflow-intel==2.13.0->tensorflow) (2.4.0)\n",
      "Requirement already satisfied: protobuf!=4.21.0,!=4.21.1,!=4.21.2,!=4.21.3,!=4.21.4,!=4.21.5,<5.0.0dev,>=3.20.3 in e:\\code-alpha\\venv\\lib\\site-packages (from tensorflow-intel==2.13.0->tensorflow) (4.25.8)\n",
      "Requirement already satisfied: tensorflow-estimator<2.14,>=2.13.0 in e:\\code-alpha\\venv\\lib\\site-packages (from tensorflow-intel==2.13.0->tensorflow) (2.13.0)\n",
      "Requirement already satisfied: keras<2.14,>=2.13.1 in e:\\code-alpha\\venv\\lib\\site-packages (from tensorflow-intel==2.13.0->tensorflow) (2.13.1)\n",
      "Requirement already satisfied: wheel<1.0,>=0.23.0 in e:\\code-alpha\\venv\\lib\\site-packages (from astunparse>=1.6.0->tensorflow-intel==2.13.0->tensorflow) (0.45.1)\n",
      "Requirement already satisfied: google-auth<3,>=1.6.3 in e:\\code-alpha\\venv\\lib\\site-packages (from tensorboard<2.14,>=2.13->tensorflow-intel==2.13.0->tensorflow) (2.40.3)\n",
      "Requirement already satisfied: markdown>=2.6.8 in e:\\code-alpha\\venv\\lib\\site-packages (from tensorboard<2.14,>=2.13->tensorflow-intel==2.13.0->tensorflow) (3.7)\n",
      "Requirement already satisfied: tensorboard-data-server<0.8.0,>=0.7.0 in e:\\code-alpha\\venv\\lib\\site-packages (from tensorboard<2.14,>=2.13->tensorflow-intel==2.13.0->tensorflow) (0.7.2)\n",
      "Requirement already satisfied: werkzeug>=1.0.1 in e:\\code-alpha\\venv\\lib\\site-packages (from tensorboard<2.14,>=2.13->tensorflow-intel==2.13.0->tensorflow) (3.0.6)\n",
      "Requirement already satisfied: google-auth-oauthlib<1.1,>=0.5 in e:\\code-alpha\\venv\\lib\\site-packages (from tensorboard<2.14,>=2.13->tensorflow-intel==2.13.0->tensorflow) (1.0.0)\n",
      "Requirement already satisfied: rsa<5,>=3.1.4 in e:\\code-alpha\\venv\\lib\\site-packages (from google-auth<3,>=1.6.3->tensorboard<2.14,>=2.13->tensorflow-intel==2.13.0->tensorflow) (4.9.1)\n",
      "Requirement already satisfied: pyasn1-modules>=0.2.1 in e:\\code-alpha\\venv\\lib\\site-packages (from google-auth<3,>=1.6.3->tensorboard<2.14,>=2.13->tensorflow-intel==2.13.0->tensorflow) (0.4.2)\n",
      "Requirement already satisfied: cachetools<6.0,>=2.0.0 in e:\\code-alpha\\venv\\lib\\site-packages (from google-auth<3,>=1.6.3->tensorboard<2.14,>=2.13->tensorflow-intel==2.13.0->tensorflow) (5.5.2)\n",
      "Requirement already satisfied: requests-oauthlib>=0.7.0 in e:\\code-alpha\\venv\\lib\\site-packages (from google-auth-oauthlib<1.1,>=0.5->tensorboard<2.14,>=2.13->tensorflow-intel==2.13.0->tensorflow) (2.0.0)\n",
      "Requirement already satisfied: zipp>=3.20 in e:\\code-alpha\\venv\\lib\\site-packages (from importlib-metadata->numba>=0.51.0->librosa) (3.20.2)\n",
      "Requirement already satisfied: pyasn1<0.7.0,>=0.6.1 in e:\\code-alpha\\venv\\lib\\site-packages (from pyasn1-modules>=0.2.1->google-auth<3,>=1.6.3->tensorboard<2.14,>=2.13->tensorflow-intel==2.13.0->tensorflow) (0.6.1)\n",
      "Requirement already satisfied: oauthlib>=3.0.0 in e:\\code-alpha\\venv\\lib\\site-packages (from requests-oauthlib>=0.7.0->google-auth-oauthlib<1.1,>=0.5->tensorboard<2.14,>=2.13->tensorflow-intel==2.13.0->tensorflow) (3.3.1)\n",
      "Requirement already satisfied: MarkupSafe>=2.1.1 in e:\\code-alpha\\venv\\lib\\site-packages (from werkzeug>=1.0.1->tensorboard<2.14,>=2.13->tensorflow-intel==2.13.0->tensorflow) (2.1.5)\n",
      "Requirement already satisfied: contourpy>=1.0.1 in e:\\code-alpha\\venv\\lib\\site-packages (from matplotlib) (1.1.1)\n",
      "Requirement already satisfied: importlib-resources>=3.2.0 in e:\\code-alpha\\venv\\lib\\site-packages (from matplotlib) (6.4.5)\n",
      "Requirement already satisfied: kiwisolver>=1.0.1 in e:\\code-alpha\\venv\\lib\\site-packages (from matplotlib) (1.4.7)\n",
      "Requirement already satisfied: pyparsing>=2.3.1 in e:\\code-alpha\\venv\\lib\\site-packages (from matplotlib) (3.1.4)\n",
      "Requirement already satisfied: pillow>=6.2.0 in e:\\code-alpha\\venv\\lib\\site-packages (from matplotlib) (10.4.0)\n",
      "Requirement already satisfied: fonttools>=4.22.0 in e:\\code-alpha\\venv\\lib\\site-packages (from matplotlib) (4.57.0)\n",
      "Requirement already satisfied: cycler>=0.10 in e:\\code-alpha\\venv\\lib\\site-packages (from matplotlib) (0.12.1)\n"
     ]
    },
    {
     "name": "stderr",
     "output_type": "stream",
     "text": [
      "WARNING: You are using pip version 21.1.1; however, version 25.0.1 is available.\n",
      "You should consider upgrading via the 'e:\\code-alpha\\venv\\scripts\\python.exe -m pip install --upgrade pip' command.\n"
     ]
    }
   ],
   "source": [
    "!pip install librosa numpy pandas scikit-learn tensorflow matplotlib resampy"
   ]
  },
  {
   "cell_type": "markdown",
   "id": "febc0435",
   "metadata": {},
   "source": [
    "### 1- Extract Features (MFCCs)"
   ]
  },
  {
   "cell_type": "code",
   "execution_count": 1,
   "id": "78836343",
   "metadata": {},
   "outputs": [],
   "source": [
    "import librosa\n",
    "import numpy as np\n",
    "import os\n",
    "\n",
    "def extract_features(file_path, max_len=174):\n",
    "    audio, sample_rate = librosa.load(file_path, res_type='kaiser_fast')\n",
    "    mfccs = librosa.feature.mfcc(y=audio, sr=sample_rate, n_mfcc=40)\n",
    "    \n",
    "    # Padding\n",
    "    if mfccs.shape[1] < max_len:\n",
    "        pad_width = max_len - mfccs.shape[1]\n",
    "        mfccs = np.pad(mfccs, pad_width=((0, 0), (0, pad_width)), mode='constant')\n",
    "    else:\n",
    "        mfccs = mfccs[:, :max_len]\n",
    "        \n",
    "    return mfccs\n"
   ]
  },
  {
   "cell_type": "markdown",
   "id": "c7ad0c56",
   "metadata": {},
   "source": [
    "### Prepare Dataset and Labels"
   ]
  },
  {
   "cell_type": "code",
   "execution_count": 2,
   "id": "aba32d02",
   "metadata": {},
   "outputs": [
    {
     "name": "stdout",
     "output_type": "stream",
     "text": [
      "Data Loaded:  (44, 40, 174) (44,)\n"
     ]
    }
   ],
   "source": [
    "import pandas as pd\n",
    "\n",
    "DATA_PATH = 'E:\\code-alpha\\Task1\\Audio_Song_Actors_01-24\\Actor_01'  # Change to your dataset path\n",
    "\n",
    "emotion_map = {\n",
    "    '01': 'neutral',\n",
    "    '02': 'calm',\n",
    "    '03': 'happy',\n",
    "    '04': 'sad',\n",
    "    '05': 'angry',\n",
    "    '06': 'fearful',\n",
    "    '07': 'disgust',\n",
    "    '08': 'surprised'\n",
    "}\n",
    "\n",
    "def load_data():\n",
    "    features, labels = [], []\n",
    "    for file in os.listdir(DATA_PATH):\n",
    "        if file.endswith('.wav'):\n",
    "            emotion_code = file.split('-')[2]\n",
    "            label = emotion_map.get(emotion_code)\n",
    "            if label:\n",
    "                mfccs = extract_features(os.path.join(DATA_PATH, file))\n",
    "                features.append(mfccs)\n",
    "                labels.append(label)\n",
    "    return np.array(features), np.array(labels)\n",
    "\n",
    "X, y = load_data()\n",
    "print(\"Data Loaded: \", X.shape, y.shape)\n"
   ]
  },
  {
   "cell_type": "markdown",
   "id": "2d84c69b",
   "metadata": {},
   "source": [
    "### Encode Labels and Split Dataset"
   ]
  },
  {
   "cell_type": "code",
   "execution_count": 3,
   "id": "0417dede",
   "metadata": {},
   "outputs": [],
   "source": [
    "from sklearn.preprocessing import LabelEncoder\n",
    "from sklearn.model_selection import train_test_split\n",
    "\n",
    "le = LabelEncoder()\n",
    "y_encoded = le.fit_transform(y)\n",
    "\n",
    "X = X[..., np.newaxis]  # Add channel dimension\n",
    "X_train, X_test, y_train, y_test = train_test_split(X, y_encoded, test_size=0.2, random_state=42)\n"
   ]
  },
  {
   "cell_type": "markdown",
   "id": "d82d82cf",
   "metadata": {},
   "source": [
    "### Build Deep Learning Model (CNN + LSTM)"
   ]
  },
  {
   "cell_type": "code",
   "execution_count": 5,
   "id": "739930dc",
   "metadata": {},
   "outputs": [
    {
     "name": "stdout",
     "output_type": "stream",
     "text": [
      "Model: \"sequential_1\"\n",
      "_________________________________________________________________\n",
      " Layer (type)                Output Shape              Param #   \n",
      "=================================================================\n",
      " conv2d_1 (Conv2D)           (None, 38, 172, 32)       320       \n",
      "                                                                 \n",
      " max_pooling2d_1 (MaxPoolin  (None, 19, 86, 32)        0         \n",
      " g2D)                                                            \n",
      "                                                                 \n",
      " dropout_1 (Dropout)         (None, 19, 86, 32)        0         \n",
      "                                                                 \n",
      " time_distributed (TimeDist  (None, 19, 2752)          0         \n",
      " ributed)                                                        \n",
      "                                                                 \n",
      " lstm (LSTM)                 (None, 128)               1475072   \n",
      "                                                                 \n",
      " dropout_2 (Dropout)         (None, 128)               0         \n",
      "                                                                 \n",
      " dense (Dense)               (None, 64)                8256      \n",
      "                                                                 \n",
      " dense_1 (Dense)             (None, 6)                 390       \n",
      "                                                                 \n",
      "=================================================================\n",
      "Total params: 1484038 (5.66 MB)\n",
      "Trainable params: 1484038 (5.66 MB)\n",
      "Non-trainable params: 0 (0.00 Byte)\n",
      "_________________________________________________________________\n"
     ]
    }
   ],
   "source": [
    "import tensorflow as tf\n",
    "from tensorflow.keras.models import Sequential\n",
    "from tensorflow.keras.layers import Conv2D, MaxPooling2D, LSTM, Dense, TimeDistributed, Flatten, Dropout, Reshape\n",
    "\n",
    "model = Sequential()\n",
    "\n",
    "model.add(Conv2D(32, (3, 3), activation='relu', input_shape=(40, 174, 1)))\n",
    "model.add(MaxPooling2D(pool_size=(2, 2)))\n",
    "model.add(Dropout(0.3))\n",
    "\n",
    "# This reshapes automatically for LSTM\n",
    "model.add(TimeDistributed(Flatten()))\n",
    "model.add(LSTM(128, return_sequences=False))\n",
    "model.add(Dropout(0.3))\n",
    "\n",
    "model.add(Dense(64, activation='relu'))\n",
    "model.add(Dense(len(np.unique(y_encoded)), activation='softmax'))\n",
    "\n",
    "model.compile(loss='sparse_categorical_crossentropy', optimizer='adam', metrics=['accuracy'])\n",
    "model.summary()\n"
   ]
  },
  {
   "cell_type": "markdown",
   "id": "416f3444",
   "metadata": {},
   "source": [
    "### Train the Model"
   ]
  },
  {
   "cell_type": "code",
   "execution_count": 6,
   "id": "72b03267",
   "metadata": {},
   "outputs": [
    {
     "name": "stdout",
     "output_type": "stream",
     "text": [
      "Epoch 1/40\n",
      "2/2 [==============================] - 4s 873ms/step - loss: 1.8820 - accuracy: 0.2000 - val_loss: 1.8638 - val_accuracy: 0.2222\n",
      "Epoch 2/40\n",
      "2/2 [==============================] - 0s 160ms/step - loss: 1.7068 - accuracy: 0.2857 - val_loss: 1.8043 - val_accuracy: 0.1111\n",
      "Epoch 3/40\n",
      "2/2 [==============================] - 0s 168ms/step - loss: 1.6565 - accuracy: 0.3429 - val_loss: 1.7457 - val_accuracy: 0.2222\n",
      "Epoch 4/40\n",
      "2/2 [==============================] - 0s 171ms/step - loss: 1.5935 - accuracy: 0.4571 - val_loss: 1.7476 - val_accuracy: 0.2222\n",
      "Epoch 5/40\n",
      "2/2 [==============================] - 0s 210ms/step - loss: 1.4722 - accuracy: 0.5143 - val_loss: 1.7463 - val_accuracy: 0.2222\n",
      "Epoch 6/40\n",
      "2/2 [==============================] - 0s 162ms/step - loss: 1.5895 - accuracy: 0.4571 - val_loss: 1.7143 - val_accuracy: 0.2222\n",
      "Epoch 7/40\n",
      "2/2 [==============================] - 0s 158ms/step - loss: 1.4497 - accuracy: 0.4571 - val_loss: 1.7799 - val_accuracy: 0.1111\n",
      "Epoch 8/40\n",
      "2/2 [==============================] - 0s 164ms/step - loss: 1.3745 - accuracy: 0.5143 - val_loss: 1.8592 - val_accuracy: 0.1111\n",
      "Epoch 9/40\n",
      "2/2 [==============================] - 0s 183ms/step - loss: 1.4286 - accuracy: 0.4571 - val_loss: 1.9122 - val_accuracy: 0.1111\n",
      "Epoch 10/40\n",
      "2/2 [==============================] - 1s 271ms/step - loss: 1.4192 - accuracy: 0.5429 - val_loss: 1.8469 - val_accuracy: 0.1111\n",
      "Epoch 11/40\n",
      "2/2 [==============================] - 1s 212ms/step - loss: 1.3764 - accuracy: 0.5143 - val_loss: 1.8131 - val_accuracy: 0.3333\n",
      "Epoch 12/40\n",
      "2/2 [==============================] - 1s 294ms/step - loss: 1.2833 - accuracy: 0.5714 - val_loss: 1.7983 - val_accuracy: 0.3333\n",
      "Epoch 13/40\n",
      "2/2 [==============================] - 1s 264ms/step - loss: 1.2347 - accuracy: 0.6000 - val_loss: 1.7815 - val_accuracy: 0.2222\n",
      "Epoch 14/40\n",
      "2/2 [==============================] - 1s 200ms/step - loss: 1.2665 - accuracy: 0.5429 - val_loss: 1.7443 - val_accuracy: 0.2222\n",
      "Epoch 15/40\n",
      "2/2 [==============================] - 1s 237ms/step - loss: 1.3172 - accuracy: 0.5429 - val_loss: 1.7433 - val_accuracy: 0.1111\n",
      "Epoch 16/40\n",
      "2/2 [==============================] - 0s 186ms/step - loss: 1.0979 - accuracy: 0.7429 - val_loss: 1.6817 - val_accuracy: 0.1111\n",
      "Epoch 17/40\n",
      "2/2 [==============================] - 0s 170ms/step - loss: 1.1693 - accuracy: 0.6286 - val_loss: 1.6022 - val_accuracy: 0.2222\n",
      "Epoch 18/40\n",
      "2/2 [==============================] - 0s 168ms/step - loss: 1.1101 - accuracy: 0.6286 - val_loss: 1.6256 - val_accuracy: 0.2222\n",
      "Epoch 19/40\n",
      "2/2 [==============================] - 1s 222ms/step - loss: 1.0562 - accuracy: 0.6286 - val_loss: 1.6507 - val_accuracy: 0.3333\n",
      "Epoch 20/40\n",
      "2/2 [==============================] - 0s 199ms/step - loss: 1.0225 - accuracy: 0.6857 - val_loss: 1.5830 - val_accuracy: 0.4444\n",
      "Epoch 21/40\n",
      "2/2 [==============================] - 0s 196ms/step - loss: 1.1144 - accuracy: 0.6571 - val_loss: 1.4769 - val_accuracy: 0.3333\n",
      "Epoch 22/40\n",
      "2/2 [==============================] - 0s 198ms/step - loss: 1.0542 - accuracy: 0.6000 - val_loss: 1.4335 - val_accuracy: 0.5556\n",
      "Epoch 23/40\n",
      "2/2 [==============================] - 0s 188ms/step - loss: 1.0407 - accuracy: 0.5714 - val_loss: 1.4217 - val_accuracy: 0.5556\n",
      "Epoch 24/40\n",
      "2/2 [==============================] - 0s 202ms/step - loss: 1.1313 - accuracy: 0.6286 - val_loss: 1.4666 - val_accuracy: 0.5556\n",
      "Epoch 25/40\n",
      "2/2 [==============================] - 0s 176ms/step - loss: 1.0279 - accuracy: 0.6571 - val_loss: 1.4619 - val_accuracy: 0.3333\n",
      "Epoch 26/40\n",
      "2/2 [==============================] - 0s 185ms/step - loss: 0.8981 - accuracy: 0.8571 - val_loss: 1.4020 - val_accuracy: 0.3333\n",
      "Epoch 27/40\n",
      "2/2 [==============================] - 0s 168ms/step - loss: 0.9022 - accuracy: 0.7429 - val_loss: 1.4046 - val_accuracy: 0.4444\n",
      "Epoch 28/40\n",
      "2/2 [==============================] - 0s 162ms/step - loss: 0.8579 - accuracy: 0.7429 - val_loss: 1.4466 - val_accuracy: 0.4444\n",
      "Epoch 29/40\n",
      "2/2 [==============================] - 0s 170ms/step - loss: 0.8213 - accuracy: 0.8286 - val_loss: 1.5280 - val_accuracy: 0.3333\n",
      "Epoch 30/40\n",
      "2/2 [==============================] - 0s 158ms/step - loss: 0.8306 - accuracy: 0.7714 - val_loss: 1.4950 - val_accuracy: 0.4444\n",
      "Epoch 31/40\n",
      "2/2 [==============================] - 0s 177ms/step - loss: 0.8656 - accuracy: 0.6857 - val_loss: 1.5220 - val_accuracy: 0.4444\n",
      "Epoch 32/40\n",
      "2/2 [==============================] - 0s 172ms/step - loss: 0.8932 - accuracy: 0.7429 - val_loss: 1.5252 - val_accuracy: 0.4444\n",
      "Epoch 33/40\n",
      "2/2 [==============================] - 0s 162ms/step - loss: 0.8712 - accuracy: 0.7714 - val_loss: 1.4797 - val_accuracy: 0.4444\n",
      "Epoch 34/40\n",
      "2/2 [==============================] - 0s 148ms/step - loss: 0.7302 - accuracy: 0.7714 - val_loss: 1.4311 - val_accuracy: 0.4444\n",
      "Epoch 35/40\n",
      "2/2 [==============================] - 0s 157ms/step - loss: 0.8220 - accuracy: 0.7714 - val_loss: 1.3767 - val_accuracy: 0.4444\n",
      "Epoch 36/40\n",
      "2/2 [==============================] - 0s 167ms/step - loss: 0.7213 - accuracy: 0.8286 - val_loss: 1.3025 - val_accuracy: 0.5556\n",
      "Epoch 37/40\n",
      "2/2 [==============================] - 0s 172ms/step - loss: 0.7184 - accuracy: 0.8286 - val_loss: 1.2642 - val_accuracy: 0.5556\n",
      "Epoch 38/40\n",
      "2/2 [==============================] - 1s 185ms/step - loss: 0.7864 - accuracy: 0.8286 - val_loss: 1.2320 - val_accuracy: 0.5556\n",
      "Epoch 39/40\n",
      "2/2 [==============================] - 0s 236ms/step - loss: 0.7965 - accuracy: 0.8000 - val_loss: 1.1906 - val_accuracy: 0.5556\n",
      "Epoch 40/40\n",
      "2/2 [==============================] - 0s 159ms/step - loss: 0.7732 - accuracy: 0.7714 - val_loss: 1.1518 - val_accuracy: 0.4444\n"
     ]
    }
   ],
   "source": [
    "history = model.fit(X_train, y_train, epochs=40, batch_size=32, validation_data=(X_test, y_test))"
   ]
  },
  {
   "cell_type": "markdown",
   "id": "3f9e97e9",
   "metadata": {},
   "source": [
    "### Evaluate the Model"
   ]
  },
  {
   "cell_type": "code",
   "execution_count": 7,
   "id": "c321dcc0",
   "metadata": {},
   "outputs": [
    {
     "name": "stdout",
     "output_type": "stream",
     "text": [
      "1/1 [==============================] - 0s 30ms/step - loss: 1.1518 - accuracy: 0.4444\n",
      "Test Accuracy: 44.44%\n"
     ]
    }
   ],
   "source": [
    "loss, accuracy = model.evaluate(X_test, y_test)\n",
    "print(f\"Test Accuracy: {accuracy * 100:.2f}%\")"
   ]
  },
  {
   "cell_type": "markdown",
   "id": "aae6bc34",
   "metadata": {},
   "source": [
    "### Plot Training History (Optional)"
   ]
  },
  {
   "cell_type": "code",
   "execution_count": 8,
   "id": "562218c5",
   "metadata": {},
   "outputs": [
    {
     "data": {
      "image/png": "[encoded data removed]",
      "text/plain": [
       "<Figure size 640x480 with 1 Axes>"
      ]
     },
     "metadata": {},
     "output_type": "display_data"
    }
   ],
   "source": [
    "import matplotlib.pyplot as plt\n",
    "\n",
    "plt.plot(history.history['accuracy'], label='Train Accuracy')\n",
    "plt.plot(history.history['val_accuracy'], label='Validation Accuracy')\n",
    "plt.xlabel('Epochs')\n",
    "plt.ylabel('Accuracy')\n",
    "plt.legend()\n",
    "plt.title('Training History')\n",
    "plt.show()\n"
   ]
  },
  {
   "cell_type": "markdown",
   "id": "c419db4d",
   "metadata": {},
   "source": [
    "### Predict on New Audio"
   ]
  },
  {
   "cell_type": "code",
   "execution_count": 10,
   "id": "8446e650",
   "metadata": {},
   "outputs": [
    {
     "name": "stdout",
     "output_type": "stream",
     "text": [
      "1/1 [==============================] - 1s 542ms/step\n",
      "angry\n"
     ]
    }
   ],
   "source": [
    "def predict_emotion(file_path):\n",
    "    mfccs = extract_features(file_path)\n",
    "    mfccs = mfccs[np.newaxis, ..., np.newaxis]\n",
    "    prediction = model.predict(mfccs)\n",
    "    predicted_label = le.inverse_transform([np.argmax(prediction)])\n",
    "    return predicted_label[0]\n",
    "\n",
    "# Example\n",
    "print(predict_emotion('E:/code-alpha/Task1/Audio_Song_Actors_01-24/Actor_02/03-02-01-01-01-01-02.wav'))"
   ]
  },
  {
   "cell_type": "markdown",
   "id": "c851840b",
   "metadata": {},
   "source": [
    "### Notes:\n",
    "- We can switch to TESS or EMO-DB by adjusting the file parsing logic and label map.\n",
    "- For better results, consider:\n",
    "    - Data augmentation (noise, pitch shift).\n",
    "    - Using attention mechanisms.\n",
    "    - Transfer learning on audio models like YAMNet or Wav2Vec2."
   ]
  }
 ],
 "metadata": {
  "kernelspec": {
   "display_name": "venv",
   "language": "python",
   "name": "python3"
  },
  "language_info": {
   "codemirror_mode": {
    "name": "ipython",
    "version": 3
   },
   "file_extension": ".py",
   "mimetype": "text/x-python",
   "name": "python",
   "nbconvert_exporter": "python",
   "pygments_lexer": "ipython3",
   "version": "3.8.10"
  }
 },
 "nbformat": 4,
 "nbformat_minor": 5
}
